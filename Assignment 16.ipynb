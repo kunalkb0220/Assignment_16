{
 "cells": [
  {
   "cell_type": "code",
   "execution_count": null,
   "id": "b96df22e",
   "metadata": {},
   "outputs": [],
   "source": [
    "Create a list called years_list, starting with the year of your birth, \n",
    "and each year thereafter until the year of your fifth birthday. \n",
    "For example, if you were born in 1980.\n",
    "the list would be years_list = [1980, 1981, 1982, 1983, 1984, 1985].\n",
    "\n",
    "years_list = [i for i in range(1997,1997+6)]\n",
    "years_list\n",
    "\n",
    "[1997, 1998, 1999, 2000, 2001, 2002]"
   ]
  },
  {
   "cell_type": "code",
   "execution_count": null,
   "id": "4a7966ec",
   "metadata": {},
   "outputs": [],
   "source": [
    "In which year in years_list was your third birthday? \n",
    "Remember, you were 0 years of age for your first year.\n",
    "\n",
    "years_list[3]\n",
    "\n",
    "2000"
   ]
  },
  {
   "cell_type": "code",
   "execution_count": null,
   "id": "d8fd0edc",
   "metadata": {},
   "outputs": [],
   "source": [
    "In the years list, which year were you the oldest?\n",
    "\n",
    "max(years_list)\n",
    "\n",
    "2002"
   ]
  },
  {
   "cell_type": "code",
   "execution_count": null,
   "id": "19d8cd4d",
   "metadata": {},
   "outputs": [],
   "source": [
    "Make a list called things with these three strings as elements:\n",
    "\"mozzarella\", \"cinderella\", \"salmonella\".\n",
    "\n",
    "\n",
    "things = list(['mozzarella', 'cinderella','salmonella'])\n",
    "things\n",
    "\n",
    "['mozzarella', 'cinderella', 'salmonella']"
   ]
  },
  {
   "cell_type": "code",
   "execution_count": null,
   "id": "ea6b3e1b",
   "metadata": {},
   "outputs": [],
   "source": [
    "Capitalize the element in things that refers to a person and then print the list \n",
    "Did it change the element in the list?\n",
    "\n",
    "for i in things:\n",
    "    print(i.capitalize())\n",
    "things\n",
    "#Capitalize() will not update the list original values.\n",
    "\n",
    "Mozzarella\n",
    "Cinderella\n",
    "Salmonella\n",
    "['mozzarella', 'cinderella', 'salmonella']"
   ]
  },
  {
   "cell_type": "code",
   "execution_count": null,
   "id": "2cbe1a4a",
   "metadata": {},
   "outputs": [],
   "source": [
    "Make a surprise list with the elements \"Groucho,\" \"Chico,\" and \"Harpo.\"\n",
    "\n",
    "surprise_list = [\"Groucho\", \"Chico\", \"Harpo\"]\n",
    "surprise_list"
   ]
  },
  {
   "cell_type": "code",
   "execution_count": null,
   "id": "a5f21bc9",
   "metadata": {},
   "outputs": [],
   "source": [
    "Lowercase the last element of the surprise list, \n",
    "reverse it, and then capitalize it.\n",
    "\n",
    "\n",
    "surprise_list[-1].lower()\n",
    "surprise_list[-1][::-1]\n",
    "surprise_list[-1][::-1].upper()"
   ]
  },
  {
   "cell_type": "code",
   "execution_count": null,
   "id": "b13da98e",
   "metadata": {},
   "outputs": [],
   "source": [
    "Make an English-to-French dictionary called e2f and print it. \n",
    "Here are your starter words: dog is chien, cat is chat, and walrus is morse.\n",
    "    \n",
    "e2f = {'dog':'chien','cat':'chat','walrus':'morse'}\n"
   ]
  },
  {
   "cell_type": "code",
   "execution_count": null,
   "id": "3ad8da8f",
   "metadata": {},
   "outputs": [],
   "source": [
    "Write the French word for walrus in your three-word dictionary e2f\n",
    "\n",
    "e2f['walrus']"
   ]
  },
  {
   "cell_type": "code",
   "execution_count": null,
   "id": "c18b430f",
   "metadata": {},
   "outputs": [],
   "source": [
    "Make a French-to-English dictionary called f2e from e2f. Use the items method\n",
    "\n",
    "f2e = dict((key,value) for value,key in e2f.items())\n",
    "f2e\n"
   ]
  },
  {
   "cell_type": "code",
   "execution_count": null,
   "id": "dca49b0c",
   "metadata": {},
   "outputs": [],
   "source": [
    "Print the English version of the French word chien using f2e.\n",
    "\n",
    "f2e['chien']"
   ]
  },
  {
   "cell_type": "code",
   "execution_count": null,
   "id": "0e570991",
   "metadata": {},
   "outputs": [],
   "source": [
    " Make and print a set of English words from the keys in e2f.\n",
    "    \n",
    "e2f.keys()\n"
   ]
  },
  {
   "cell_type": "code",
   "execution_count": null,
   "id": "523febfc",
   "metadata": {},
   "outputs": [],
   "source": [
    "Make a multilevel dictionary called life. Use these strings for the topmost \n",
    "keys:'animals', 'plants', and 'other'. Make the 'animals' key refer to another\n",
    "dictionary with the keys 'cats', 'octopi', and 'emus'.Make the 'cats' key\n",
    "refer to a list of strings with the values 'Henri','Grumpy', and 'Lucy'.\n",
    "Make all the other keys refer to empty dictionaries.\n",
    "\n",
    "life ={'animals':{'cat':['Henri', 'Grumpy', 'Lucy'], 'octopi':'', 'emus':''},\n",
    "       'plants' :'',\n",
    "       'other' :'' }\n",
    "life"
   ]
  },
  {
   "cell_type": "code",
   "execution_count": null,
   "id": "7a6401cc",
   "metadata": {},
   "outputs": [],
   "source": [
    "Print the top-level keys of life.\n",
    "\n"
   ]
  },
  {
   "cell_type": "code",
   "execution_count": null,
   "id": "bff0b7ba",
   "metadata": {},
   "outputs": [],
   "source": []
  },
  {
   "cell_type": "code",
   "execution_count": null,
   "id": "de0d835d",
   "metadata": {},
   "outputs": [],
   "source": []
  }
 ],
 "metadata": {
  "kernelspec": {
   "display_name": "Python 3",
   "language": "python",
   "name": "python3"
  },
  "language_info": {
   "codemirror_mode": {
    "name": "ipython",
    "version": 3
   },
   "file_extension": ".py",
   "mimetype": "text/x-python",
   "name": "python",
   "nbconvert_exporter": "python",
   "pygments_lexer": "ipython3",
   "version": "3.8.8"
  }
 },
 "nbformat": 4,
 "nbformat_minor": 5
}
